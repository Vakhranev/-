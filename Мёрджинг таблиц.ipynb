{
  "nbformat": 4,
  "nbformat_minor": 0,
  "metadata": {
    "colab": {
      "provenance": [],
      "authorship_tag": "ABX9TyP9vLRTilOYuZeH9KHY7sF1",
      "include_colab_link": true
    },
    "kernelspec": {
      "name": "python3",
      "display_name": "Python 3"
    },
    "language_info": {
      "name": "python"
    }
  },
  "cells": [
    {
      "cell_type": "markdown",
      "metadata": {
        "id": "view-in-github",
        "colab_type": "text"
      },
      "source": [
        "<a href=\"https://colab.research.google.com/github/Vakhranev/Pushkina/blob/main/%D0%9C%D1%91%D1%80%D0%B4%D0%B6%D0%B8%D0%BD%D0%B3%20%D1%82%D0%B0%D0%B1%D0%BB%D0%B8%D1%86.ipynb\" target=\"_parent\"><img src=\"https://colab.research.google.com/assets/colab-badge.svg\" alt=\"Open In Colab\"/></a>"
      ]
    },
    {
      "cell_type": "code",
      "execution_count": 4,
      "metadata": {
        "id": "PxCZFVCjP89V"
      },
      "outputs": [],
      "source": [
        "import pandas as pd\n",
        "\n",
        "# Загрузка данных\n",
        "df1 = pd.read_excel(\"Термины 5-11 классы Монахов (1).xlsx\")\n",
        "df2 = pd.read_excel(\"terms_singular (18).xlsx\")\n",
        "\n",
        "# Переименование столбцов для удобства\n",
        "col_main = \"termin\"\n",
        "col_alt = \"Единственное число\"\n",
        "df2 = df2.rename(columns={\"Слово или сочетание\": col_main})\n",
        "\n",
        "# Объединение по основному столбцу\n",
        "merged_df = df1.merge(df2, on=col_main, how=\"left\")\n",
        "\n",
        "# Обнаружение строк без совпадений\n",
        "no_match = merged_df[merged_df.isnull().any(axis=1)].copy()\n",
        "\n",
        "# Попытка объединить по альтернативному названию\n",
        "alt_merge = df1.merge(df2, left_on=col_main, right_on=col_alt, how=\"left\")\n",
        "\n",
        "# Обновление данных в основной таблице, если совпадение найдено по альтернативному столбцу\n",
        "for idx in no_match.index:\n",
        "    match_row = alt_merge.loc[idx]\n",
        "    if pd.notna(match_row[col_alt]):\n",
        "        merged_df.loc[idx] = match_row\n",
        "\n",
        "# Сохранение результата\n",
        "merged_df.to_excel(\"merged_result.xlsx\", index=False)"
      ]
    }
  ]
}