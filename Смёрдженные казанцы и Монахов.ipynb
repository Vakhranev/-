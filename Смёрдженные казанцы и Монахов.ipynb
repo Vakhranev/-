{
  "nbformat": 4,
  "nbformat_minor": 0,
  "metadata": {
    "colab": {
      "provenance": [],
      "authorship_tag": "ABX9TyN48747/Bf3vGc6Hpa941m1",
      "include_colab_link": true
    },
    "kernelspec": {
      "name": "python3",
      "display_name": "Python 3"
    },
    "language_info": {
      "name": "python"
    }
  },
  "cells": [
    {
      "cell_type": "markdown",
      "metadata": {
        "id": "view-in-github",
        "colab_type": "text"
      },
      "source": [
        "<a href=\"https://colab.research.google.com/github/Vakhranev/Pushkina/blob/main/%D0%A1%D0%BC%D1%91%D1%80%D0%B4%D0%B6%D0%B5%D0%BD%D0%BD%D1%8B%D0%B5%20%D0%BA%D0%B0%D0%B7%D0%B0%D0%BD%D1%86%D1%8B%20%D0%B8%20%D0%9C%D0%BE%D0%BD%D0%B0%D1%85%D0%BE%D0%B2.ipynb\" target=\"_parent\"><img src=\"https://colab.research.google.com/assets/colab-badge.svg\" alt=\"Open In Colab\"/></a>"
      ]
    },
    {
      "cell_type": "code",
      "execution_count": 2,
      "metadata": {
        "colab": {
          "base_uri": "https://localhost:8080/"
        },
        "id": "DQJYE6rowpJD",
        "outputId": "210869c2-ea62-4d73-a2d4-620ea062baaf"
      },
      "outputs": [
        {
          "output_type": "stream",
          "name": "stdout",
          "text": [
            "Файл успешно обработан и сохранён!\n"
          ]
        }
      ],
      "source": [
        "import pandas as pd\n",
        "\n",
        "# Загрузка файла\n",
        "df = pd.read_excel(\"Термины 5-11 классы Монахов (1).xlsx\")\n",
        "\n",
        "# Таблица соответствий\n",
        "mapping = {\n",
        "    \"artisticculture\": \"Изобразительное искусство\",\n",
        "    \"art\": \"Изобразительное искусство\",\n",
        "    \"geometry\": \"Геометрия\",\n",
        "    \"maths\": \"Математика\",\n",
        "    \"matan\": \"Алгебра\",\n",
        "    \"algebra\": \"Алгебра\",\n",
        "    \"biology\": \"Биология\",\n",
        "    \"natsci\": \"Естествознание\",\n",
        "    \"literature\": \"Литература\",\n",
        "    \"physicaled\": \"Физическая культура\",\n",
        "    \"informatics\": \"Информатика\",\n",
        "    \"music\": \"Музыка\",\n",
        "    \"astronomy\": \"Астрономия\",\n",
        "    \"crafts\": \"Технология\",\n",
        "    \"ruslang\": \"Русский язык\",\n",
        "    \"sociology\": \"Обществознание\",\n",
        "    \"physics\": \"Физика\",\n",
        "    \"law\": \"Обществознание\",\n",
        "    \"chemistry\": \"Химия\",\n",
        "    \"geography\": \"География\",\n",
        "    \"history\": \"История\"\n",
        "}\n",
        "\n",
        "# Функция обработки дисциплин и классов\n",
        "def process_disciplines(disciplines, stages):\n",
        "    if isinstance(disciplines, str):\n",
        "        disciplines = eval(disciplines)  # Преобразуем строку в список\n",
        "    elif isinstance(disciplines, float):  # Проверяем, является ли disciplines числом с плавающей точкой\n",
        "        disciplines = [disciplines]     # Если да, то преобразуем его в список\n",
        "    if isinstance(stages, str):\n",
        "        stages = eval(stages)\n",
        "    elif isinstance(stages, float):  # Проверяем, является ли stages числом с плавающей точкой\n",
        "        stages = [stages]       # Если да, то преобразуем его в список\n",
        "\n",
        "    new_disciplines = []\n",
        "    new_stages = []\n",
        "    seen = set()\n",
        "\n",
        "    for i, subject in enumerate(disciplines):\n",
        "        mapped_subject = mapping.get(subject, subject)\n",
        "        if mapped_subject not in seen:\n",
        "            seen.add(mapped_subject)\n",
        "            new_disciplines.append(mapped_subject)\n",
        "            new_stages.append(stages[i])\n",
        "\n",
        "    return str(new_disciplines), str(new_stages)\n",
        "\n",
        "# Применение обработки\n",
        "df[['discipline', 'stages']] = df.apply(lambda row: process_disciplines(row['discipline'], row['stages']), axis=1, result_type='expand')\n",
        "\n",
        "# Сохранение результата\n",
        "df.to_excel(\"Термины 5-11 классы Монахов (обработанный).xlsx\", index=False)\n",
        "\n",
        "print(\"Файл успешно обработан и сохранён!\")"
      ]
    },
    {
      "cell_type": "code",
      "source": [
        "!pip install pymorphy3\n",
        "\n",
        "import pandas as pd\n",
        "import pymorphy3\n",
        "import re\n",
        "\n",
        "# Загружаем файл\n",
        "df = pd.read_excel(\"terms (6).xlsx\")\n",
        "\n",
        "# Инициализируем морфологический анализатор\n",
        "morph = pymorphy3.MorphAnalyzer()\n",
        "\n",
        "def normalize_phrase(phrase):\n",
        "    words = re.sub(r',', '', phrase).split()  # Убираем запятые и разбиваем на слова\n",
        "    normalized_words = [morph.parse(word)[0].normal_form for word in words]  # Приводим к начальной форме\n",
        "    return \"_\".join(normalized_words)  # Соединяем слова нижним подчёркиванием\n",
        "\n",
        "# Создаём новый столбец с нормализованными терминами\n",
        "df[\"F\"] = df[\"Слово или сочетание\"].astype(str).apply(normalize_phrase)\n",
        "\n",
        "# Сохраняем результат\n",
        "output_file = \"terms_normalized.xlsx\"\n",
        "df.to_excel(output_file, index=False)\n",
        "print(f\"Файл {output_file} успешно сохранён!\")"
      ],
      "metadata": {
        "colab": {
          "base_uri": "https://localhost:8080/"
        },
        "id": "6tfzqWwu1Dr2",
        "outputId": "89d7ed6f-e4a8-41b5-a469-a82aaa9a918c"
      },
      "execution_count": 3,
      "outputs": [
        {
          "output_type": "stream",
          "name": "stdout",
          "text": [
            "Collecting pymorphy3\n",
            "  Downloading pymorphy3-2.0.3-py3-none-any.whl.metadata (1.9 kB)\n",
            "Collecting dawg2-python>=0.8.0 (from pymorphy3)\n",
            "  Downloading dawg2_python-0.9.0-py3-none-any.whl.metadata (7.5 kB)\n",
            "Collecting pymorphy3-dicts-ru (from pymorphy3)\n",
            "  Downloading pymorphy3_dicts_ru-2.4.417150.4580142-py2.py3-none-any.whl.metadata (2.0 kB)\n",
            "Downloading pymorphy3-2.0.3-py3-none-any.whl (53 kB)\n",
            "\u001b[2K   \u001b[90m━━━━━━━━━━━━━━━━━━━━━━━━━━━━━━━━━━━━━━━━\u001b[0m \u001b[32m53.8/53.8 kB\u001b[0m \u001b[31m2.0 MB/s\u001b[0m eta \u001b[36m0:00:00\u001b[0m\n",
            "\u001b[?25hDownloading dawg2_python-0.9.0-py3-none-any.whl (9.3 kB)\n",
            "Downloading pymorphy3_dicts_ru-2.4.417150.4580142-py2.py3-none-any.whl (8.4 MB)\n",
            "\u001b[2K   \u001b[90m━━━━━━━━━━━━━━━━━━━━━━━━━━━━━━━━━━━━━━━━\u001b[0m \u001b[32m8.4/8.4 MB\u001b[0m \u001b[31m43.9 MB/s\u001b[0m eta \u001b[36m0:00:00\u001b[0m\n",
            "\u001b[?25hInstalling collected packages: pymorphy3-dicts-ru, dawg2-python, pymorphy3\n",
            "Successfully installed dawg2-python-0.9.0 pymorphy3-2.0.3 pymorphy3-dicts-ru-2.4.417150.4580142\n",
            "Файл terms_normalized.xlsx успешно сохранён!\n"
          ]
        }
      ]
    },
    {
      "cell_type": "code",
      "source": [
        "import pandas as pd\n",
        "\n",
        "# Загружаем оба файла\n",
        "terms_df = pd.read_excel(\"terms_normalized.xlsx\")\n",
        "monakhov_df = pd.read_excel(\"Термины 5-11 классы Монахов (обработанный).xlsx\")\n",
        "\n",
        "# Объединяем по Начальным формам и termin\n",
        "merged_df = pd.merge(terms_df, monakhov_df, left_on=\"Начальные формы\", right_on=\"termin\", how=\"outer\")\n",
        "\n",
        "# Сохраняем в новый файл\n",
        "merged_df.to_excel(\"merged_terms.xlsx\", index=False)\n",
        "\n",
        "print(\"Объединённый файл сохранён как merged_terms.xlsx\")"
      ],
      "metadata": {
        "colab": {
          "base_uri": "https://localhost:8080/"
        },
        "id": "AfWFa8Ci22Qp",
        "outputId": "d5a154ff-78a4-408d-a843-d30e6bed151f"
      },
      "execution_count": 5,
      "outputs": [
        {
          "output_type": "stream",
          "name": "stdout",
          "text": [
            "Объединённый файл сохранён как merged_terms.xlsx\n"
          ]
        }
      ]
    }
  ]
}