{
  "nbformat": 4,
  "nbformat_minor": 0,
  "metadata": {
    "colab": {
      "provenance": [],
      "authorship_tag": "ABX9TyNWFJE/IkuC60ECCnCnG8Tk",
      "include_colab_link": true
    },
    "kernelspec": {
      "name": "python3",
      "display_name": "Python 3"
    },
    "language_info": {
      "name": "python"
    }
  },
  "cells": [
    {
      "cell_type": "markdown",
      "metadata": {
        "id": "view-in-github",
        "colab_type": "text"
      },
      "source": [
        "<a href=\"https://colab.research.google.com/github/Vakhranev/Pushkina/blob/main/%D0%A1%D1%80%D0%B5%D0%B4%D0%BD%D0%B8%D0%B5_%D0%B8_%D0%BC%D0%B5%D0%B4%D0%B8%D0%B0%D0%BD%D0%BD%D1%8B%D0%B5_TF_IDF.ipynb\" target=\"_parent\"><img src=\"https://colab.research.google.com/assets/colab-badge.svg\" alt=\"Open In Colab\"/></a>"
      ]
    },
    {
      "cell_type": "code",
      "execution_count": 16,
      "metadata": {
        "colab": {
          "base_uri": "https://localhost:8080/"
        },
        "id": "6rVtu6vohGSC",
        "outputId": "643dc70c-da2a-41e7-a5cd-14e0db163ad7"
      },
      "outputs": [
        {
          "output_type": "stream",
          "name": "stdout",
          "text": [
            "Количество строк с TF-IDF != 0 и меткой термина != 0: 9568\n",
            "           Лемма  TF-IDF значение Метка термина\n",
            "0        и__Союз         0.596279             0\n",
            "1     в__Предлог         0.588408             0\n",
            "2    на__Предлог         0.233334             0\n",
            "3     с__Предлог         0.206237             0\n",
            "4        а__Союз         0.180911             0\n",
            "5    не__Частица         0.129592             0\n",
            "6   быть__Глагол         0.153628             0\n",
            "8     к__Предлог         0.107483             0\n",
            "9      что__Союз         0.109472             0\n",
            "10   из__Предлог         0.091035             0\n"
          ]
        }
      ],
      "source": [
        "import pandas as pd\n",
        "\n",
        "# Считываем данные из CSV файла\n",
        "df = pd.read_csv('terms_data.csv')\n",
        "\n",
        "# Преобразуем колонку 'TF-IDF значение' в числовой формат, если она не является числом\n",
        "df['TF-IDF значение'] = pd.to_numeric(df['TF-IDF значение'], errors='coerce')\n",
        "\n",
        "# Фильтруем строки, где TF-IDF значение больше нуля и метка термина не равна нулю\n",
        "df_non_zero_tfidf = df[(df['TF-IDF значение'] > 0) & (df['Метка термина'] != 0)]\n",
        "\n",
        "# Проверяем количество строк\n",
        "print(f\"Количество строк с TF-IDF != 0 и меткой термина != 0: {len(df_non_zero_tfidf)}\")\n",
        "\n",
        "# Выводим первые 10 строк для проверки\n",
        "print(df_non_zero_tfidf.head(10))"
      ]
    },
    {
      "cell_type": "code",
      "source": [
        "# Фильтрация данных\n",
        "df_non_zero_tfidf_non_zero_label = df[(df['TF-IDF значение'] != 0) & (df['Метка термина'] != '0')]\n",
        "\n",
        "# Вывод первых 10 строк\n",
        "print(df_non_zero_tfidf_non_zero_label.head(10))"
      ],
      "metadata": {
        "colab": {
          "base_uri": "https://localhost:8080/"
        },
        "id": "4MQCqfzGsMxl",
        "outputId": "75339ac4-1837-41eb-f111-0f11f8c0c92f"
      },
      "execution_count": 20,
      "outputs": [
        {
          "output_type": "stream",
          "name": "stdout",
          "text": [
            "                      Лемма  TF-IDF значение Метка термина\n",
            "28             при__Предлог         0.039821             5\n",
            "47   слово__Существительное         0.048891             9\n",
            "57        два__Числительное         0.027817             7\n",
            "64              чтобы__Союз         0.019500             6\n",
            "65   земля__Существительное         0.024117             7\n",
            "71    вода__Существительное         0.021088             5\n",
            "79           между__Предлог         0.015467             6\n",
            "95           после__Предлог         0.013427             5\n",
            "102      составлять__Глагол         0.005142             5\n",
            "109            над__Предлог         0.011009             8\n"
          ]
        }
      ]
    },
    {
      "cell_type": "code",
      "source": [
        "# Фильтрация строк, где TF-IDF значение != 0 и Метка термина != 0\n",
        "df_filtered_non_zero_label = df[(df['TF-IDF значение'] != 0) & (df['Метка термина'] != 0)]\n",
        "\n",
        "# Вычисление среднего и медианного значения TF-IDF для отфильтрованного DataFrame\n",
        "mean_tfidf_non_zero_label = df_filtered_non_zero_label['TF-IDF значение'].mean()\n",
        "median_tfidf_non_zero_label = df_filtered_non_zero_label['TF-IDF значение'].median()\n",
        "\n",
        "print(f\"Среднее значение TF-IDF для метки термина != 0: {mean_tfidf_non_zero_label}\")\n",
        "print(f\"Медианное значение TF-IDF для метки термина != 0: {median_tfidf_non_zero_label}\")"
      ],
      "metadata": {
        "colab": {
          "base_uri": "https://localhost:8080/"
        },
        "id": "w6LOD-4Q0EQQ",
        "outputId": "517225e0-f871-4cf0-e6a8-b0c6f8ee1d75"
      },
      "execution_count": 24,
      "outputs": [
        {
          "output_type": "stream",
          "name": "stdout",
          "text": [
            "Среднее значение TF-IDF для метки термина != 0: 0.001519107117063961\n",
            "Медианное значение TF-IDF для метки термина != 0: 0.0004379973878\n"
          ]
        }
      ]
    },
    {
      "cell_type": "code",
      "source": [
        "# Преобразование столбца 'Метка термина' в числовой формат\n",
        "df['Метка термина'] = pd.to_numeric(df['Метка термина'], errors='coerce')\n",
        "\n",
        "# Фильтрация строк, где TF-IDF значение != 0 и Метка термина == 0\n",
        "df_filtered = df[(df['TF-IDF значение'] != 0) & (df['Метка термина'] == 0)]\n",
        "\n",
        "# Вычисление среднего и медианного значения TF-IDF для полученного DataFrame\n",
        "mean_tfidf = df_filtered['TF-IDF значение'].mean()\n",
        "median_tfidf = df_filtered['TF-IDF значение'].median()\n",
        "\n",
        "print(f\"Среднее значение TF-IDF для метки термина == 0: {mean_tfidf}\")\n",
        "print(f\"Медианное значение TF-IDF для метки термина == 0: {median_tfidf}\")"
      ],
      "metadata": {
        "colab": {
          "base_uri": "https://localhost:8080/"
        },
        "id": "qTaF4rlW4HES",
        "outputId": "8b98662c-c11d-4667-9a1c-fa1f502764db"
      },
      "execution_count": 23,
      "outputs": [
        {
          "output_type": "stream",
          "name": "stdout",
          "text": [
            "Среднее значение TF-IDF для метки термина == 0: 0.0010881358754906477\n",
            "Медианное значение TF-IDF для метки термина == 0: 0.0002281236395\n"
          ]
        }
      ]
    }
  ]
}