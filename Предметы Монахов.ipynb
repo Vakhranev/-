{
  "nbformat": 4,
  "nbformat_minor": 0,
  "metadata": {
    "colab": {
      "provenance": [],
      "authorship_tag": "ABX9TyNTWbEVROdXCxt/YqwR3/iO",
      "include_colab_link": true
    },
    "kernelspec": {
      "name": "python3",
      "display_name": "Python 3"
    },
    "language_info": {
      "name": "python"
    }
  },
  "cells": [
    {
      "cell_type": "markdown",
      "metadata": {
        "id": "view-in-github",
        "colab_type": "text"
      },
      "source": [
        "<a href=\"https://colab.research.google.com/github/Vakhranev/Pushkina/blob/main/%D0%9F%D1%80%D0%B5%D0%B4%D0%BC%D0%B5%D1%82%D1%8B%20%D0%9C%D0%BE%D0%BD%D0%B0%D1%85%D0%BE%D0%B2.ipynb\" target=\"_parent\"><img src=\"https://colab.research.google.com/assets/colab-badge.svg\" alt=\"Open In Colab\"/></a>"
      ]
    },
    {
      "cell_type": "code",
      "execution_count": 1,
      "metadata": {
        "colab": {
          "base_uri": "https://localhost:8080/"
        },
        "id": "govogHM5gOz2",
        "outputId": "f8d6b969-1496-4488-9694-88f1bd137f8c"
      },
      "outputs": [
        {
          "output_type": "stream",
          "name": "stdout",
          "text": [
            "{'artisticculture', 'geometry', 'biology', 'maths', 'matan', 'literature', 'physicaled', 'informatics', 'natsci', 'art', 'algebra', 'music', 'astronomy', 'crafts', 'ruslang', 'sociology', 'physics', 'law', 'chemistry', 'geography', 'history'}\n"
          ]
        }
      ],
      "source": [
        "import pandas as pd\n",
        "import ast\n",
        "\n",
        "# Загрузка данных\n",
        "df = pd.read_excel(\"Термины 5-11 классы Монахов (1).xlsx\")\n",
        "\n",
        "# Извлечение уникальных названий предметов\n",
        "unique_disciplines = set()\n",
        "df[\"discipline\"].dropna().apply(lambda x: unique_disciplines.update(ast.literal_eval(x)))\n",
        "\n",
        "# Вывод уникальных значений\n",
        "print(unique_disciplines)"
      ]
    }
  ]
}