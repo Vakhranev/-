{
  "nbformat": 4,
  "nbformat_minor": 0,
  "metadata": {
    "colab": {
      "provenance": [],
      "authorship_tag": "ABX9TyMOwVxiNE2Az8BQIiYkBWoQ",
      "include_colab_link": true
    },
    "kernelspec": {
      "name": "python3",
      "display_name": "Python 3"
    },
    "language_info": {
      "name": "python"
    }
  },
  "cells": [
    {
      "cell_type": "markdown",
      "metadata": {
        "id": "view-in-github",
        "colab_type": "text"
      },
      "source": [
        "<a href=\"https://colab.research.google.com/github/Vakhranev/Pushkina/blob/main/%D0%9A%D0%B0%D0%B7%D0%B0%D0%BD%D1%86%D1%8B.ipynb\" target=\"_parent\"><img src=\"https://colab.research.google.com/assets/colab-badge.svg\" alt=\"Open In Colab\"/></a>"
      ]
    },
    {
      "cell_type": "code",
      "execution_count": 4,
      "metadata": {
        "id": "AJD8KgnMagtj",
        "outputId": "3dd18a96-54e1-4b8c-c834-dec5ae448ea0",
        "colab": {
          "base_uri": "https://localhost:8080/"
        }
      },
      "outputs": [
        {
          "output_type": "stream",
          "name": "stdout",
          "text": [
            "Учебники, у которых не удалось определить минимальный класс:\n",
            "Файл terms.xlsx успешно создан!\n"
          ]
        }
      ],
      "source": [
        "import requests\n",
        "from bs4 import BeautifulSoup\n",
        "import concurrent.futures\n",
        "import re\n",
        "import pandas as pd\n",
        "\n",
        "# Словарь предметов с вариантами названий\n",
        "SUBJECTS = {\n",
        "    \"Математика\": [\"Математика\", \"Алгебра\", \"Геометрия\"],\n",
        "    \"Русский язык\": [\"Русский язык\"],\n",
        "    \"Литература\": [\"Литература\"],\n",
        "    \"История\": [\"История\"],\n",
        "    \"Обществознание\": [\"Обществознание\"],\n",
        "    \"География\": [\"География\"],\n",
        "    \"Биология\": [\"Биология\", \"Ботаника\"],\n",
        "    \"Химия\": [\"Химия\"],\n",
        "    \"Физика\": [\"Физика\"],\n",
        "    \"Информатика\": [\"Информатика\", \"Кибербезопасность\"],\n",
        "    \"Иностранный язык\": [\"Английский язык\", \"Немецкий язык\", \"Французский язык\", \"Испанский язык\"],\n",
        "    \"Музыка\": [\"Музыка\"],\n",
        "    \"Изобразительное искусство\": [\"Изобразительное искусство\", \"ИЗО\"],\n",
        "    \"Технология\": [\"Технология\"],\n",
        "    \"ОБЖ\": [\"Основы безопасности жизнедеятельности\", \"ОБЖ\"],\n",
        "    \"Физкультура\": [\"Физическая культура\", \"Физкультура\"],\n",
        "    \"ОДНКР\": [\"ОДНКР\", \"ОДНКНР\"],\n",
        "    \"Естествознание\": [\"Естествознание\", \"Окружающий мир\", \"Экология\"],\n",
        "}\n",
        "\n",
        "BASE_URL = \"https://rulex.kpfu.ru/booklist\"\n",
        "HEADERS = {\"User-Agent\": \"Mozilla/5.0\"}\n",
        "\n",
        "# Функция для получения списка ссылок на \"Список терминов\"\n",
        "def get_term_links():\n",
        "    response = requests.get(BASE_URL, headers=HEADERS)\n",
        "    soup = BeautifulSoup(response.text, \"html.parser\")\n",
        "    links = [\n",
        "        \"https://rulex.kpfu.ru\" + a[\"href\"]\n",
        "        for a in soup.find_all(\"a\", string=\"Список терминов\")\n",
        "    ]\n",
        "    return links\n",
        "\n",
        "# Функция для извлечения предмета из названия учебника\n",
        "def extract_subject(title):\n",
        "    for subject, variations in SUBJECTS.items():\n",
        "        if any(variant in title for variant in variations):\n",
        "            return subject\n",
        "    return title  # Если предмет не найден, возвращаем полный заголовок\n",
        "\n",
        "# Функция для извлечения минимального класса из заголовка\n",
        "def extract_min_class(title):\n",
        "    matches = re.findall(r\"(\\d+)\\s*[-.]?\\s*(?:й|го|гo)?\\s*(?:кл[.]?|класс)\", title, re.IGNORECASE)\n",
        "    roman_matches = re.findall(r\"\\b([IVXLCDM]+)\\b\\s*[-.]?\\s*(?:кл[.]?|класс)\", title, re.IGNORECASE)\n",
        "    classes = [int(match) for match in matches]\n",
        "    roman_to_int = {\"I\": 1, \"II\": 2, \"III\": 3, \"IV\": 4, \"V\": 5, \"VI\": 6, \"VII\": 7, \"VIII\": 8, \"IX\": 9, \"X\": 10}\n",
        "    for match in roman_matches:\n",
        "        if match in roman_to_int:\n",
        "            classes.append(roman_to_int[match])\n",
        "    return min(classes) if classes else None\n",
        "\n",
        "# Функция для парсинга одной страницы\n",
        "def parse_page(url):\n",
        "    response = requests.get(url, headers=HEADERS)\n",
        "    soup = BeautifulSoup(response.text, \"html.parser\")\n",
        "    class_info = soup.find(\"h4\").text.strip() if soup.find(\"h4\") else \"\"\n",
        "    subject = extract_subject(class_info)\n",
        "    min_class = extract_min_class(class_info)\n",
        "    table = soup.find(\"table\", class_=\"w3-table-all\")\n",
        "    terms = []\n",
        "    if table:\n",
        "        for row in table.find_all(\"tr\")[1:]:\n",
        "            cols = row.find_all(\"td\")\n",
        "            if len(cols) >= 2:\n",
        "                term = cols[0].text.strip()\n",
        "                frequency = int(cols[1].text.strip()) if cols[1].text.strip().isdigit() else 0\n",
        "                terms.append((term, subject, min_class, frequency))\n",
        "    return terms, class_info\n",
        "\n",
        "# Основная функция\n",
        "def main():\n",
        "    term_links = get_term_links()\n",
        "    all_terms = []\n",
        "    problematic_books = set()\n",
        "    with concurrent.futures.ThreadPoolExecutor(max_workers=10) as executor:\n",
        "        results = executor.map(parse_page, term_links)\n",
        "    for result, book_title in results:\n",
        "        all_terms.extend(result)\n",
        "        if any(term[2] is None for term in result):\n",
        "            problematic_books.add(book_title)\n",
        "    print(\"Учебники, у которых не удалось определить минимальный класс:\")\n",
        "    for book in problematic_books:\n",
        "        print(book)\n",
        "    term_dict = {}\n",
        "    for term, subject, min_class, frequency in all_terms:\n",
        "        if term not in term_dict:\n",
        "            term_dict[term] = {\"subjects\": {}, \"frequency\": 0}\n",
        "        if subject not in term_dict[term][\"subjects\"]:\n",
        "            term_dict[term][\"subjects\"][subject] = min_class\n",
        "        else:\n",
        "            term_dict[term][\"subjects\"][subject] = min(term_dict[term][\"subjects\"][subject], min_class)\n",
        "        term_dict[term][\"frequency\"] += frequency\n",
        "    df = pd.DataFrame([\n",
        "        (\n",
        "            term,\n",
        "            \", \".join(sorted(term_data[\"subjects\"].keys())),\n",
        "            \", \".join(str(term_data[\"subjects\"][subject]) for subject in sorted(term_data[\"subjects\"])),\n",
        "            term_data[\"frequency\"]\n",
        "        )\n",
        "        for term, term_data in term_dict.items()\n",
        "    ], columns=[\"Слово или сочетание\", \"Предмет\", \"Минимальный класс, где встречается\", \"Частота\"])\n",
        "    df.to_excel(\"terms.xlsx\", index=False)\n",
        "    print(\"Файл terms.xlsx успешно создан!\")\n",
        "\n",
        "if __name__ == \"__main__\":\n",
        "    main()"
      ]
    }
  ]
}